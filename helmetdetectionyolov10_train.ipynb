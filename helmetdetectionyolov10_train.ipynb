{
 "cells": [
  {
   "cell_type": "code",
   "execution_count": 10,
   "metadata": {},
   "outputs": [],
   "source": [
    "from ultralytics import YOLO\n",
    "import cv2\n",
    "import numpy as np\n",
    "import torch\n",
    "from PIL import Image"
   ]
  },
  {
   "cell_type": "code",
   "execution_count": 2,
   "metadata": {},
   "outputs": [],
   "source": [
    "# Configuration\n",
    "model_path = 'F:/AIO/helmetdetectionyolov10/yolov10n.pt'\n",
    "YAML_PATH = \"F:/AIO/helmetdetectionyolov10/dataset/data.yaml\"\n",
    "EPOCHS = 100\n",
    "IMG_SIZE = 640\n",
    "BATCH_SIZE = 32\n",
    "model = YOLO(model_path)\n"
   ]
  },
  {
   "cell_type": "markdown",
   "metadata": {},
   "source": [
    "## Train the model with yolov10 nano"
   ]
  },
  {
   "cell_type": "code",
   "execution_count": 7,
   "metadata": {},
   "outputs": [
    {
     "name": "stdout",
     "output_type": "stream",
     "text": [
      "cuda\n"
     ]
    }
   ],
   "source": [
    "# Training the model\n",
    "device = \"cuda\" if torch.cuda.is_available() else \"cpu\"\n",
    "# model.train(model = model_path, device=0, data = YAML_PATH, epochs = EPOCHS, batch = BATCH_SIZE, imgsz = IMG_SIZE)"
   ]
  },
  {
   "cell_type": "markdown",
   "metadata": {},
   "source": [
    "## Testing with best.pt"
   ]
  },
  {
   "cell_type": "code",
   "execution_count": 4,
   "metadata": {},
   "outputs": [
    {
     "name": "stdout",
     "output_type": "stream",
     "text": [
      "\n",
      "image 1/1 F:\\AIO\\helmetdetectionyolov10\\testimg\\Screenshot 2024-06-29 165623.png: 448x640 9 helmets, 196.0ms\n",
      "Speed: 3.0ms preprocess, 196.0ms inference, 21.0ms postprocess per image at shape (1, 3, 448, 640)\n",
      "Results saved to \u001b[1mruns\\detect\\predict6\u001b[0m\n"
     ]
    }
   ],
   "source": [
    "TRAINED_MODEL_PATH = 'model/yolov10best_20240629.pt'\n",
    "CONF = 0.3\n",
    "model = YOLO( TRAINED_MODEL_PATH )\n",
    "img_path = \"F:/AIO/helmetdetectionyolov10/testimg/\"\n",
    "img='Screenshot 2024-06-29 165623.png'\n",
    "source_img = img_path + img\n",
    "predicted_img = img_path + \"predicted_\" + img\n",
    "results = model.predict( source = source_img, conf=CONF, save=True, save_dir=predicted_img)\n"
   ]
  },
  {
   "cell_type": "code",
   "execution_count": 11,
   "metadata": {},
   "outputs": [
    {
     "ename": "AttributeError",
     "evalue": "module 'PIL.Image' has no attribute 'show'",
     "output_type": "error",
     "traceback": [
      "\u001b[1;31m---------------------------------------------------------------------------\u001b[0m",
      "\u001b[1;31mAttributeError\u001b[0m                            Traceback (most recent call last)",
      "Cell \u001b[1;32mIn[11], line 2\u001b[0m\n\u001b[0;32m      1\u001b[0m img_result \u001b[38;5;241m=\u001b[39m results[\u001b[38;5;241m0\u001b[39m]\u001b[38;5;241m.\u001b[39mplot()\n\u001b[1;32m----> 2\u001b[0m img_show \u001b[38;5;241m=\u001b[39m \u001b[43mImage\u001b[49m\u001b[38;5;241;43m.\u001b[39;49m\u001b[43mshow\u001b[49m(img_result)\n\u001b[0;32m      3\u001b[0m img_show\u001b[38;5;241m.\u001b[39mshow()\n",
      "\u001b[1;31mAttributeError\u001b[0m: module 'PIL.Image' has no attribute 'show'"
     ]
    }
   ],
   "source": [
    "img_result = results[0].plot()\n",
    "img_show = Image.fromarray(img_result)\n",
    "img_show.show()"
   ]
  },
  {
   "cell_type": "code",
   "execution_count": null,
   "metadata": {},
   "outputs": [],
   "source": []
  }
 ],
 "metadata": {
  "kernelspec": {
   "display_name": ".venv",
   "language": "python",
   "name": "python3"
  },
  "language_info": {
   "codemirror_mode": {
    "name": "ipython",
    "version": 3
   },
   "file_extension": ".py",
   "mimetype": "text/x-python",
   "name": "python",
   "nbconvert_exporter": "python",
   "pygments_lexer": "ipython3",
   "version": "3.10.9"
  }
 },
 "nbformat": 4,
 "nbformat_minor": 2
}
