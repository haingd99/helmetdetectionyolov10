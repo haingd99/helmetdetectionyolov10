{
 "cells": [
  {
   "cell_type": "code",
   "execution_count": 2,
   "metadata": {},
   "outputs": [],
   "source": [
    "from ultralytics import YOLO\n"
   ]
  },
  {
   "cell_type": "code",
   "execution_count": 3,
   "metadata": {},
   "outputs": [],
   "source": [
    "# Configuration\n",
    "model_path = 'F:/AIO/helmetdetectionyolov10/yolov10n.pt'\n",
    "YAML_PATH = \"F:/AIO/helmetdetectionyolov10/dataset/data.yaml\"\n",
    "EPOCHS = 100\n",
    "IMG_SIZE = 640\n",
    "BATCH_SIZE = 32\n",
    "model = YOLO(model_path)\n"
   ]
  },
  {
   "cell_type": "markdown",
   "metadata": {},
   "source": [
    "## Train the model with yolov10 nano"
   ]
  },
  {
   "cell_type": "code",
   "execution_count": null,
   "metadata": {},
   "outputs": [],
   "source": [
    "# Training the model\n",
    "model.train(model = model_path, device=0, data = YAML_PATH, epochs = EPOCHS, batch = BATCH_SIZE, imgsz = IMG_SIZE)"
   ]
  },
  {
   "cell_type": "markdown",
   "metadata": {},
   "source": [
    "## Testing with best.pt"
   ]
  },
  {
   "cell_type": "code",
   "execution_count": 6,
   "metadata": {},
   "outputs": [
    {
     "name": "stdout",
     "output_type": "stream",
     "text": [
      "\n",
      "image 1/1 F:\\AIO\\helmetdetectionyolov10\\testimg\\Screenshot 2024-06-29 165623.png: 448x640 9 helmets, 15.0ms\n",
      "Speed: 3.0ms preprocess, 15.0ms inference, 0.0ms postprocess per image at shape (1, 3, 448, 640)\n",
      "Results saved to \u001b[1mruns\\detect\\predict3\u001b[0m\n"
     ]
    }
   ],
   "source": [
    "TRAINED_MODEL_PATH = 'model/yolov10best_20240629.pt'\n",
    "CONF = 0.3\n",
    "model = YOLO( TRAINED_MODEL_PATH )\n",
    "img_path = \"F:/AIO/helmetdetectionyolov10/testimg/\"\n",
    "img='Screenshot 2024-06-29 165623.png'\n",
    "source_img = img_path + img\n",
    "predicted_img = img_path + \"predicted_\" + img\n",
    "results = model.predict( source = source_img, conf=CONF, save=True, save_dir=predicted_img)\n"
   ]
  },
  {
   "cell_type": "code",
   "execution_count": 11,
   "metadata": {},
   "outputs": [
    {
     "data": {
      "text/plain": [
       "array([[[228, 228, 228],\n",
       "        [160, 194, 243],\n",
       "        [183, 212, 252],\n",
       "        ...,\n",
       "        [135, 124, 130],\n",
       "        [149, 137, 150],\n",
       "        [156, 143, 156]],\n",
       "\n",
       "       [[228, 228, 228],\n",
       "        [122, 167, 239],\n",
       "        [171, 200, 248],\n",
       "        ...,\n",
       "        [121, 116, 124],\n",
       "        [148, 136, 146],\n",
       "        [164, 151, 162]],\n",
       "\n",
       "       [[228, 228, 228],\n",
       "        [117, 165, 243],\n",
       "        [126, 168, 237],\n",
       "        ...,\n",
       "        [111, 110, 127],\n",
       "        [134, 125, 142],\n",
       "        [145, 140, 156]],\n",
       "\n",
       "       ...,\n",
       "\n",
       "       [[228, 228, 228],\n",
       "        [175, 176, 176],\n",
       "        [175, 176, 176],\n",
       "        ...,\n",
       "        [208, 197, 200],\n",
       "        [218, 211, 210],\n",
       "        [224, 216, 218]],\n",
       "\n",
       "       [[228, 228, 228],\n",
       "        [175, 177, 177],\n",
       "        [175, 176, 176],\n",
       "        ...,\n",
       "        [207, 202, 201],\n",
       "        [218, 210, 209],\n",
       "        [224, 216, 216]],\n",
       "\n",
       "       [[228, 228, 228],\n",
       "        [175, 177, 177],\n",
       "        [177, 177, 177],\n",
       "        ...,\n",
       "        [213, 202, 202],\n",
       "        [219, 211, 210],\n",
       "        [226, 219, 218]]], dtype=uint8)"
      ]
     },
     "execution_count": 11,
     "metadata": {},
     "output_type": "execute_result"
    }
   ],
   "source": [
    "import numpy as np\n",
    "from PIL import Image\n",
    "img_np = results[0].plot()\n",
    "Image.open(img_np)"
   ]
  },
  {
   "cell_type": "code",
   "execution_count": null,
   "metadata": {},
   "outputs": [],
   "source": []
  }
 ],
 "metadata": {
  "kernelspec": {
   "display_name": ".venv",
   "language": "python",
   "name": "python3"
  },
  "language_info": {
   "codemirror_mode": {
    "name": "ipython",
    "version": 3
   },
   "file_extension": ".py",
   "mimetype": "text/x-python",
   "name": "python",
   "nbconvert_exporter": "python",
   "pygments_lexer": "ipython3",
   "version": "3.10.9"
  }
 },
 "nbformat": 4,
 "nbformat_minor": 2
}
